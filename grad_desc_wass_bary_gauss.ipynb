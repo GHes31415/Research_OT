{
  "nbformat": 4,
  "nbformat_minor": 0,
  "metadata": {
    "colab": {
      "provenance": [],
      "gpuType": "T4",
      "authorship_tag": "ABX9TyP2O8MH8ZCqXdcWJHscP8kQ",
      "include_colab_link": true
    },
    "kernelspec": {
      "name": "python3",
      "display_name": "Python 3"
    },
    "language_info": {
      "name": "python"
    }
  },
  "cells": [
    {
      "cell_type": "markdown",
      "metadata": {
        "id": "view-in-github",
        "colab_type": "text"
      },
      "source": [
        "<a href=\"https://colab.research.google.com/github/GHes31415/Research_OT/blob/main/grad_desc_wass_bary_gauss.ipynb\" target=\"_parent\"><img src=\"https://colab.research.google.com/assets/colab-badge.svg\" alt=\"Open In Colab\"/></a>"
      ]
    },
    {
      "cell_type": "code",
      "execution_count": 1,
      "metadata": {
        "id": "U5KuIyamuycJ"
      },
      "outputs": [],
      "source": [
        "import torch\n",
        "import time\n",
        "# device = torch.device(\"cuda\" if torch.cuda.is_available() else \"cpu\")"
      ]
    },
    {
      "cell_type": "markdown",
      "source": [
        "Here I'm going to try the followin loss funciton for finding the barycenter of Gaussian distributions in the case $n = 2$\n"
      ],
      "metadata": {
        "id": "DBq8i3MPvLE3"
      }
    },
    {
      "cell_type": "code",
      "source": [
        "n = 10\n",
        "sampling_cov_wish = torch.distributions.wishart.Wishart(n,covariance_matrix=torch.eye(n))\n",
        "sampling_cov_lkj = torch.distributions.lkj_cholesky.LKJCholesky(n,0.5)\n",
        "# sig_1 = sampling_cov.sample()\n",
        "# sig_2 = torch.tensor([[3,1],[1,5]],dtype= torch.float32)#.to(device)\n",
        "# sig_3 = torch.tensor([[5,-4],[-4,6]],dtype= torch.float32)\n",
        "# sig_4 = torch.tensor([[15,-8],[-8,60]],dtype= torch.float32)\n",
        "# sig_5 = torch.tensor([[0.1,0.001],[0.01,1]],dtype= torch.float32)\n",
        "# sig_6 = torch.tensor([[10000,0.001],[0.01,1]],dtype= torch.float32)\n",
        "# sig_7 = torch.tensor([[10000,-0.001],[-0.01,1]],dtype= torch.float32)\n",
        "# cov_mats = [sig_1,sig_2,sig_3,sig_4,sig_5,sig_6,sig_7]\n",
        "k = 9\n",
        "cov_mats_wish = []\n",
        "cov_mats_lkj = []\n",
        "for i in range(k):\n",
        "  L = sampling_cov_lkj.sample()\n",
        "  cov_mats_lkj.append((i+1)*L@L.T)\n",
        "  # L2 = sampling_cov_wish.sample()\n",
        "  # cov_mats_wish.append(L2@L2.T)\n",
        "\n",
        "# print(cov_mats_lkj)\n",
        "\n",
        "# print(cov_mats_wish)"
      ],
      "metadata": {
        "id": "uNKfhzGWu3Sx"
      },
      "execution_count": 57,
      "outputs": []
    },
    {
      "cell_type": "code",
      "source": [
        "# Check for commutativity\n",
        "# torch.norm(sig_1@sig_2-sig_2@sig_1)"
      ],
      "metadata": {
        "id": "y7g8urrPxTp6"
      },
      "execution_count": 40,
      "outputs": []
    },
    {
      "cell_type": "code",
      "source": [
        "def sqrt_cov(sig: torch.tensor, inverse= False):\n",
        "  '''\n",
        "  sig: nxn SPD matrix\n",
        "  '''\n",
        "  D,U = torch.linalg.eig(sig)\n",
        "  if inverse:\n",
        "    return torch.matmul(torch.matmul(U,torch.diag(D**0.5)),torch.linalg.inv(U)).type(torch.float32),torch.matmul(torch.matmul(U,torch.diag(D**(-0.5))),torch.linalg.inv(U)).type(torch.float32)\n",
        "  else:\n",
        "    return torch.matmul(torch.matmul(U,torch.diag(D**0.5)),torch.linalg.inv(U)).type(torch.float32)"
      ],
      "metadata": {
        "id": "ry-hdkZ5yNX_"
      },
      "execution_count": 41,
      "outputs": []
    },
    {
      "cell_type": "code",
      "source": [
        "def loss(theta,cov_mats,k):\n",
        "  '''\n",
        "  theta:    torch.tensor size n^2,\n",
        "            current estimate.\n",
        "  cov_mats: list of size k of tensors with shape nxn,\n",
        "            covariance matrices.\n",
        "  k:        torch.tensor size 1,\n",
        "            number of covariance matrices.\n",
        "  '''\n",
        "  theta_m = theta.reshape((n,n))#.to(device)\n",
        "  sig_theta = torch.matmul(theta_m,theta_m.T)\n",
        "  sum_loss = (wass_distance(sig_theta,cov_mats,k)).sum()\n",
        "\n",
        "\n",
        "\n",
        "  return sum_loss/k\n",
        "\n",
        "def loss2(theta,cov_mats,k):\n",
        "  #Maybe this has to be modified to be squared\n",
        "  sum_loss = (dis_par_to_covs(theta,cov_mats,k)).sum()\n",
        "  return sum_loss/k\n",
        "def loss3(theta,cov_mats,k):\n",
        "  #Maybe this has to be modified to be squared\n",
        "  sum_loss = (dis_par_to_covs_2(theta,cov_mats,k)).sum()\n",
        "  return sum_loss/k"
      ],
      "metadata": {
        "id": "cvV1-5o1v3-m"
      },
      "execution_count": 42,
      "outputs": []
    },
    {
      "cell_type": "code",
      "source": [
        "def dis_par_to_covs(theta,cov_mats,k):\n",
        "  '''\n",
        "  theta:    torch.tensor size n^2,\n",
        "            current estimate.\n",
        "  cov_mats: list of size k of tensors with shape nxn,\n",
        "            covariance matrices.\n",
        "  k:        torch.tensor size 1,\n",
        "            number of covariance matrices.\n",
        "  '''\n",
        "  theta_m = theta.reshape((n,n))#.to(device)\n",
        "  sig_theta = torch.matmul(theta_m,theta_m.T)\n",
        "  sig_theta_sqrt,sig_theta_sqrt_inv = sqrt_cov(sig_theta,True)\n",
        "  # sig_theta_sqrt = sqrt_cov(sig_theta)\n",
        "  # sig_theta_sqrt_inv = torch.linalg.inv(sig_theta_sqrt)\n",
        "  distances = torch.zeros(k)\n",
        "  for i,sig in enumerate(cov_mats):\n",
        "    first_mat = torch.matmul(torch.matmul(sig_theta_sqrt,sig),sig_theta_sqrt)\n",
        "    sqrt_mat = sqrt_cov(first_mat)\n",
        "    second_mat = torch.matmul(sig_theta_sqrt_inv,sqrt_mat)\n",
        "    distances[i] =torch.linalg.matrix_norm(sig_theta_sqrt-second_mat)**2\n",
        "  return distances\n",
        "def dis_par_to_covs_2(theta,cov_mats,k):\n",
        "  '''\n",
        "  theta:    torch.tensor size n^2,\n",
        "            current estimate.\n",
        "  cov_mats: list of size k of tensors with shape nxn,\n",
        "            covariance matrices.\n",
        "  k:        torch.tensor size 1,\n",
        "            number of covariance matrices.\n",
        "  '''\n",
        "  theta_m = theta.reshape((n,n))#.to(device)\n",
        "  sig_theta = torch.matmul(theta_m,theta_m.T)\n",
        "  distances = torch.zeros(k)\n",
        "  for i,sig in enumerate(cov_mats):\n",
        "    sig_sqrt,sig_sqrt_inv = sqrt_cov(sig,True)\n",
        "    first_mat = sqrt_cov(torch.matmul(torch.matmul(sig_sqrt,sig_theta),sig_sqrt))\n",
        "    second_mat = torch.matmul(sig_sqrt_inv,first_mat)\n",
        "    distances[i] =torch.linalg.matrix_norm(sig_sqrt-second_mat)**2\n",
        "  return distances\n",
        "def dis_cov_to_covs(cov,cov_mats,k):\n",
        "  cov_sqrt,cov_sqrt_inv = sqrt_cov(cov,True)\n",
        "  distances = torch.zeros(k)\n",
        "  for i,sig in enumerate(cov_mats):\n",
        "    first_mat = torch.matmul(torch.matmul(cov_sqrt,sig),cov_sqrt)\n",
        "    # print(first_mat)\n",
        "    sqrt_mat = sqrt_cov(first_mat)\n",
        "    second_mat = torch.matmul(cov_sqrt_inv,sqrt_mat)\n",
        "    distances[i] = torch.linalg.matrix_norm(cov_sqrt-second_mat)**2\n",
        "\n",
        "\n",
        "\n",
        "  return distances"
      ],
      "metadata": {
        "id": "ZtQ4HZ4S7LgH"
      },
      "execution_count": 43,
      "outputs": []
    },
    {
      "cell_type": "code",
      "source": [
        "def wass_distance(cov,cov_mats,k):\n",
        "  cov_sqrt = sqrt_cov(cov)\n",
        "  distances = torch.zeros(k)\n",
        "  for i,sig in enumerate(cov_mats):\n",
        "    mat = sqrt_cov(torch.matmul(torch.matmul(cov_sqrt,sig),cov_sqrt))\n",
        "    distances[i] = torch.trace(cov+sig-2*mat)\n",
        "\n",
        "  return distances\n"
      ],
      "metadata": {
        "id": "2PsPquTIxPmC"
      },
      "execution_count": 44,
      "outputs": []
    },
    {
      "cell_type": "code",
      "source": [
        "\n",
        "# theta = torch.randn(n**2,requires_grad=True)#.to(device)\n",
        "# optimizer = torch.optim.Adam([theta],lr = lr)"
      ],
      "metadata": {
        "id": "o_kAmRpp0gl6"
      },
      "execution_count": 45,
      "outputs": []
    },
    {
      "cell_type": "code",
      "source": [
        "\n",
        "def training(theta,lr,n_iters,loss,cov_mats):\n",
        "  increment = 1\n",
        "  for epoch in range(n_iters):\n",
        "\n",
        "    # compute loss and backpropagate\n",
        "    l = loss(theta,cov_mats,k)\n",
        "    l.backward()\n",
        "    d_theta = theta.grad\n",
        "    # update theta gradient descent\n",
        "    with torch.no_grad():\n",
        "      theta -= lr*d_theta\n",
        "    if torch.norm(lr*d_theta)<10**(-6):\n",
        "      print(epoch,torch.norm(lr*d_theta))\n",
        "      return theta\n",
        "    if epoch%1000 == 0:\n",
        "      print(epoch,torch.norm(lr*d_theta))\n",
        "    # zero graidents\n",
        "    theta.grad.zero_()\n",
        "  return theta\n",
        "\n",
        "\n",
        "\n",
        "\n",
        "\n"
      ],
      "metadata": {
        "id": "_WVvZ44B1w-C"
      },
      "execution_count": 46,
      "outputs": []
    },
    {
      "cell_type": "code",
      "source": [
        "lr = torch.tensor(.01)#.to(device)\n",
        "n_iters = 5000"
      ],
      "metadata": {
        "id": "oHKkjFVcgPde"
      },
      "execution_count": 74,
      "outputs": []
    },
    {
      "cell_type": "code",
      "source": [
        "t1 = time.time()\n",
        "theta = torch.randn(n**2,requires_grad=True)#.to(device)\n",
        "theta_w2 = training(theta,lr,n_iters,loss,cov_mats_lkj)\n",
        "print(time.time()-t1)"
      ],
      "metadata": {
        "id": "p6xGfYHf-LDm",
        "colab": {
          "base_uri": "https://localhost:8080/"
        },
        "outputId": "775339c2-0f39-444a-8029-bf41f53c3e37"
      },
      "execution_count": 75,
      "outputs": [
        {
          "output_type": "stream",
          "name": "stdout",
          "text": [
            "0 tensor(0.0984)\n",
            "1000 tensor(1.1242e-06)\n",
            "1032 tensor(9.9649e-07)\n",
            "10.367677450180054\n"
          ]
        }
      ]
    },
    {
      "cell_type": "code",
      "source": [
        "t1 = time.time()\n",
        "theta = torch.randn(n**2,requires_grad=True)#.to(device)\n",
        "theta_par = training(theta,lr,n_iters,loss2,cov_mats_lkj)\n",
        "print(time.time()-t1)"
      ],
      "metadata": {
        "id": "8qjvon3w-ZRM",
        "colab": {
          "base_uri": "https://localhost:8080/"
        },
        "outputId": "1d78d5cc-c909-4df3-e4e9-c7cf9c97da05"
      },
      "execution_count": 76,
      "outputs": [
        {
          "output_type": "stream",
          "name": "stdout",
          "text": [
            "0 tensor(0.1440)\n",
            "940 tensor(9.8008e-07)\n",
            "9.180063962936401\n"
          ]
        }
      ]
    },
    {
      "cell_type": "code",
      "source": [
        "t1 = time.time()\n",
        "theta = torch.randn(n**2,requires_grad=True)#.to(device)\n",
        "theta_par = training(theta,lr,n_iters,loss3,cov_mats_lkj)\n",
        "print(time.time()-t1)"
      ],
      "metadata": {
        "colab": {
          "base_uri": "https://localhost:8080/"
        },
        "id": "tyzXpvqGNuSt",
        "outputId": "69982b49-15a4-45cd-d406-aadce0d7a9df"
      },
      "execution_count": 77,
      "outputs": [
        {
          "output_type": "stream",
          "name": "stdout",
          "text": [
            "0 tensor(0.1079)\n",
            "1000 tensor(3.5540e-05)\n",
            "2000 tensor(3.5623e-05)\n",
            "3000 tensor(4.1888e-05)\n",
            "4000 tensor(4.6841e-05)\n",
            "62.14758515357971\n"
          ]
        }
      ]
    },
    {
      "cell_type": "code",
      "source": [
        "def fixed_point_it_sol(n,cov_mat,k,n_iters):\n",
        "  sig = torch.randn(n,n)\n",
        "  sig = torch.matmul(sig,sig.T)\n",
        "  sig_sqrt,sig_sqrt_inv = sqrt_cov(sig,True)\n",
        "  increase = 1\n",
        "  # counter = 0\n",
        "  for epoch in range(n_iters):\n",
        "    # print(sig)\n",
        "\n",
        "    sum_mats = torch.zeros_like(sig)\n",
        "    for cov in cov_mat:\n",
        "      sum_mats += sqrt_cov(torch.matmul(torch.matmul(sig_sqrt,cov),sig_sqrt))/k\n",
        "    mat = torch.matmul(sum_mats,sum_mats)\n",
        "    sig_next = torch.matmul(torch.matmul(sig_sqrt_inv,mat),sig_sqrt_inv)\n",
        "    # print(f'sig next{sig_next}')\n",
        "    increase = torch.linalg.matrix_norm(sig-sig_next)\n",
        "    sig = sig_next.clone()\n",
        "    sig_sqrt,sig_sqrt_inv = sqrt_cov(sig,True)\n",
        "    if increase<10**(-6):\n",
        "      print(epoch,increase)\n",
        "      return sig\n",
        "    if epoch%1000==0:\n",
        "      print(epoch,increase)\n",
        "  print(epoch)\n",
        "  return sig"
      ],
      "metadata": {
        "id": "hT7DYxNR0lmx"
      },
      "execution_count": 50,
      "outputs": []
    },
    {
      "cell_type": "code",
      "source": [
        "t1 = time.time()\n",
        "sig = fixed_point_it_sol(n,cov_mats_lkj,k,n_iters)\n",
        "print(time.time()-t1)"
      ],
      "metadata": {
        "id": "uMq6_OI8lviJ",
        "colab": {
          "base_uri": "https://localhost:8080/"
        },
        "outputId": "be6e30b5-e778-495f-fd90-fe61e232d8fe"
      },
      "execution_count": 66,
      "outputs": [
        {
          "output_type": "stream",
          "name": "stdout",
          "text": [
            "0 tensor(50.2833)\n",
            "1000 tensor(3.7318e-05)\n",
            "2000 tensor(3.0690e-05)\n",
            "3000 tensor(2.4552e-05)\n",
            "4000 tensor(1.8431e-05)\n",
            "4999\n",
            "14.427969217300415\n"
          ]
        }
      ]
    },
    {
      "cell_type": "code",
      "source": [],
      "metadata": {
        "id": "uJlhWNoLAxiV"
      },
      "execution_count": 19,
      "outputs": []
    }
  ]
}